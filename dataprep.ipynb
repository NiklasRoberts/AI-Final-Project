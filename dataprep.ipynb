{
 "cells": [
  {
   "cell_type": "code",
   "execution_count": 1,
   "metadata": {},
   "outputs": [],
   "source": [
    "# Get tree measurements for year 82, 85, and 90\n",
    "import pandas as pd\n",
    "treeMeasurements = pd.read_csv(\"C55_TreeMeasurements.csv\")\n",
    "\n",
    "#getting trees from 1982 and 1985 measurements\n",
    "desiredCols1 = [\"PLOT\", \"TREE\", \"RECRUIT\", \"SPECIES\", \"D82\", \"D85\"]\n",
    "customMeasurements1 = treeMeasurements[desiredCols1]\n",
    "\n",
    "#getting trees from 1985 to 1990\n",
    "desiredCols2 = [\"PLOT\", \"TREE\", \"RECRUIT\", \"SPECIES\", \"D85\", \"D90\"]\n",
    "customMeasurements2 = treeMeasurements[desiredCols2]\n",
    "\n",
    "#cleaning data to gather trees that only have measurements at both ends of the period\n",
    "clean82_85 = customMeasurements1.dropna()\n",
    "clean85_90 = customMeasurements2.dropna()"
   ]
  },
  {
   "cell_type": "code",
   "execution_count": 2,
   "metadata": {},
   "outputs": [],
   "source": [
    "# getting foliar nutrients from csv file\n",
    "foliarNutrients = pd.read_csv(\"C55_FoliarNutrients.csv\")\n",
    "foliarNutrients = foliarNutrients.drop(\"REPLICATE\", axis=1)\n",
    "\n",
    "# Get foliar nutrient levels 1982\n",
    "foliarNutrients82 = foliarNutrients.loc[foliarNutrients['YEAR'] == 1982]\n",
    "\n",
    "# Get foliar nutrient levels 1985\n",
    "foliarNutrients85 = foliarNutrients.loc[foliarNutrients['YEAR'] == 1985]"
   ]
  },
  {
   "cell_type": "code",
   "execution_count": 4,
   "metadata": {},
   "outputs": [],
   "source": [
    "# Add foliar nutrients to tree data \n",
    "allTreeData82_85 = pd.merge(clean82_85, foliarNutrients82, on=\"PLOT\", how=\"outer\")\n",
    "allTreeData85_90 = pd.merge(clean85_90, foliarNutrients85, on=\"PLOT\", how=\"outer\")"
   ]
  },
  {
   "cell_type": "code",
   "execution_count": 5,
   "metadata": {},
   "outputs": [],
   "source": [
    "# Getting percent growth for each tree per year\n",
    "# perc_growth = (D85-D82)/D82\n",
    "allTreeData82_85[\"Growth\"] = (allTreeData82_85[\"D85\"]-allTreeData82_85[\"D82\"])/allTreeData82_85[\"D82\"]\n",
    "# growth_per_yr = prec_growth/85-82\n",
    "allTreeData82_85[\"Growth/yr\"] = allTreeData82_85[\"Growth\"]/3\n",
    "\n",
    "#getting percent growth for 1985-1990\n",
    "# perc_growth = (D90-D85)/D825\n",
    "allTreeData85_90[\"Growth\"] = (allTreeData85_90[\"D90\"]-allTreeData85_90[\"D85\"])/allTreeData85_90[\"D85\"]\n",
    "# growth_per_yr = prec_growth/85-82\n",
    "allTreeData85_90[\"Growth/yr\"] = allTreeData85_90[\"Growth\"]/5"
   ]
  },
  {
   "cell_type": "code",
   "execution_count": 6,
   "metadata": {},
   "outputs": [],
   "source": [
    "# Extract relevant columns: \n",
    "relColumns = [\"SPECIES\", \"TOTN\", \"TOTP\", \"TOTK\", \"TOTS\", \"TOTCa\", \"Growth/yr\"]\n",
    "modelingData82 = allTreeData82_85[relColumns]\n",
    "modelingData85 = allTreeData85_90[relColumns]\n",
    "\n",
    "# combine dataframes to make one dataframe with all data needed\n",
    "modelingData = pd.concat([modelingData82, modelingData85], ignore_index=True)\n",
    "modelingData['id'] = modelingData.index"
   ]
  },
  {
   "cell_type": "code",
   "execution_count": 7,
   "metadata": {},
   "outputs": [
    {
     "data": {
      "text/plain": [
       "<AxesSubplot:xlabel='bins'>"
      ]
     },
     "execution_count": 7,
     "metadata": {},
     "output_type": "execute_result"
    },
    {
     "data": {
      "image/png": "[encoded data removed]",
      "text/plain": [
       "<Figure size 432x288 with 1 Axes>"
      ]
     },
     "metadata": {
      "needs_background": "light"
     },
     "output_type": "display_data"
    }
   ],
   "source": [
    "# Experimental data analysis looking at distribution and possible binning\n",
    "import matplotlib\n",
    "\n",
    "# creating a copy of current modeling data\n",
    "modelingCopy = modelingData\n",
    "\n",
    "# Creating Histogram for percent growth per year\n",
    "bins = [0, .05, .1, .2, 50]\n",
    "modelingCopy['bins'] = pd.cut(modelingData['Growth/yr'], bins = bins, include_lowest=True)\n",
    "plotDF = modelingCopy.groupby('bins').bins.count()\n",
    "plotDF.plot(kind=\"bar\")\n"
   ]
  },
  {
   "cell_type": "code",
   "execution_count": 7,
   "metadata": {},
   "outputs": [],
   "source": [
    "# Getting Columns for neural network classification\n",
    "# What bin does the growth/yr fall into? that bin gets a 1, others get 0\n",
    "\n",
    "mergeDF = pd.DataFrame(columns=['id', 'bin'])\n",
    "\n",
    "# For each row in modelingData setting a bin based off how growth/year\n",
    "for index, row in modelingData.iterrows():\n",
    "    #bins: 0-0.05, 0.05+ to 0.1, 0.1+ to 0.2, 0.2+\n",
    "    if row['Growth/yr'] <= .05:\n",
    "        mergeDF.loc[index] = pd.Series({'id': index, 'bin': 0})\n",
    "    elif row['Growth/yr'] <= .1:\n",
    "        mergeDF.loc[index] = pd.Series({'id': index, 'bin': 1})\n",
    "    elif row['Growth/yr'] <= .2:\n",
    "        mergeDF.loc[index] = pd.Series({'id': index, 'bin': 2})\n",
    "    else:\n",
    "        mergeDF.loc[index] = pd.Series({'id': index, 'bin': 3})\n",
    "\n",
    "# joining data to include bin\n",
    "modelingData = pd.merge(modelingData, mergeDF, on='id', how=\"outer\")"
   ]
  },
  {
   "cell_type": "code",
   "execution_count": 8,
   "metadata": {},
   "outputs": [
    {
     "name": "stderr",
     "output_type": "stream",
     "text": [
      "<ipython-input-8-3f59790ad1d2>:16: SettingWithCopyWarning: \n",
      "A value is trying to be set on a copy of a slice from a DataFrame.\n",
      "Try using .loc[row_indexer,col_indexer] = value instead\n",
      "\n",
      "See the caveats in the documentation: https://pandas.pydata.org/pandas-docs/stable/user_guide/indexing.html#returning-a-view-versus-a-copy\n",
      "  classifyData['SPECIES'] = speciesNumList\n"
     ]
    }
   ],
   "source": [
    "# Getting data ready for the Classification Neural Network\n",
    "\n",
    "# Input variables: SPECIES, TOTN, TOTP, TOTK, TOTS, TOTCa, and TOTMg (not used)\n",
    "# label: fixed bins (1 for correct bin, 0 for all others)\n",
    "classifyColumns = ['SPECIES', 'TOTN', 'TOTP', 'TOTK', 'TOTS', 'TOTCa', 'bin']\n",
    "classifyData = modelingData[classifyColumns]\n",
    "\n",
    "# for turning 'species' column into numerical data\n",
    "from sklearn.preprocessing import LabelEncoder\n",
    "speciesLabEncoder = LabelEncoder()\n",
    "\n",
    "# Transforms species into numerical data\n",
    "speciesNumList = speciesLabEncoder.fit_transform(classifyData['SPECIES'])\n",
    "# code for reverting: species = le.inverse_transform(label)\n",
    "# changing the species column to numerical values\n",
    "classifyData['SPECIES'] = speciesNumList"
   ]
  },
  {
   "cell_type": "code",
   "execution_count": 9,
   "metadata": {},
   "outputs": [],
   "source": [
    "# Splitting into input and output data\n",
    "classifyX = classifyData.iloc[:,:6].values\n",
    "classifyY = classifyData.iloc[:,6:7].values\n",
    "\n",
    "# Transforming output into binary values\n",
    "from sklearn.preprocessing import OneHotEncoder\n",
    "ohe = OneHotEncoder()\n",
    "classifyY = ohe.fit_transform(classifyY).toarray()"
   ]
  },
  {
   "cell_type": "code",
   "execution_count": 10,
   "metadata": {},
   "outputs": [],
   "source": [
    "# Splitting data into training and test data\n",
    "from sklearn.model_selection import train_test_split\n",
    "classifyX_train, classifyX_test, classifyY_train, classifyY_test = train_test_split(classifyX, classifyY, test_size = 0.1)"
   ]
  },
  {
   "cell_type": "code",
   "execution_count": 93,
   "metadata": {},
   "outputs": [],
   "source": [
    "#Building and Compiling Neural Network for Classification\n",
    "import keras\n",
    "from keras.models import Sequential\n",
    "from keras.layers import Dense\n",
    "\n",
    "classifyModel = Sequential()\n",
    "classifyModel.add(Dense(24, input_dim=6, activation='relu'))\n",
    "classifyModel.add(Dense(24, activation='relu'))\n",
    "#trying to overfit\n",
    "classifyModel.add(Dense(36, activation='relu'))\n",
    "classifyModel.add(Dense(36, activation='relu'))\n",
    "classifyModel.add(Dense(24, activation='relu'))\n",
    "classifyModel.add(Dense(12, activation='relu'))\n",
    "classifyModel.add(Dense(4, activation='sigmoid'))\n",
    "\n",
    "classifyModel.compile(loss='categorical_crossentropy', optimizer='adam', metrics=['accuracy'])"
   ]
  },
  {
   "cell_type": "code",
   "execution_count": 94,
   "metadata": {},
   "outputs": [
    {
     "name": "stdout",
     "output_type": "stream",
     "text": [
      "Epoch 1/100\n",
      "156/156 [==============================] - 2s 2ms/step - loss: 1.3282 - accuracy: 0.4311\n",
      "Epoch 2/100\n",
      "156/156 [==============================] - 0s 3ms/step - loss: 1.1120 - accuracy: 0.4983\n",
      "Epoch 3/100\n",
      "156/156 [==============================] - 0s 3ms/step - loss: 1.0628 - accuracy: 0.5002\n",
      "Epoch 4/100\n",
      "156/156 [==============================] - 0s 2ms/step - loss: 1.0326 - accuracy: 0.5192\n",
      "Epoch 5/100\n",
      "156/156 [==============================] - 0s 3ms/step - loss: 1.0210 - accuracy: 0.5301\n",
      "Epoch 6/100\n",
      "156/156 [==============================] - 0s 3ms/step - loss: 1.0178 - accuracy: 0.5154\n",
      "Epoch 7/100\n",
      "156/156 [==============================] - 1s 5ms/step - loss: 1.0086 - accuracy: 0.5251\n",
      "Epoch 8/100\n",
      "156/156 [==============================] - 1s 4ms/step - loss: 1.0062 - accuracy: 0.5239\n",
      "Epoch 9/100\n",
      "156/156 [==============================] - ETA: 0s - loss: 1.0110 - accuracy: 0.53 - 0s 2ms/step - loss: 1.0105 - accuracy: 0.5332\n",
      "Epoch 10/100\n",
      "156/156 [==============================] - 0s 3ms/step - loss: 1.0097 - accuracy: 0.5318\n",
      "Epoch 11/100\n",
      "156/156 [==============================] - 0s 3ms/step - loss: 1.0083 - accuracy: 0.5276\n",
      "Epoch 12/100\n",
      "156/156 [==============================] - 0s 3ms/step - loss: 1.0079 - accuracy: 0.5220\n",
      "Epoch 13/100\n",
      "156/156 [==============================] - 1s 4ms/step - loss: 0.9951 - accuracy: 0.5286\n",
      "Epoch 14/100\n",
      "156/156 [==============================] - 1s 5ms/step - loss: 1.0004 - accuracy: 0.5238: 0s - loss: 1\n",
      "Epoch 15/100\n",
      "156/156 [==============================] - 1s 6ms/step - loss: 1.0083 - accuracy: 0.5159: 0s - loss: - ETA: 0s - loss: 1.0092 - accuracy: \n",
      "Epoch 16/100\n",
      "156/156 [==============================] - 1s 4ms/step - loss: 0.9919 - accuracy: 0.5284\n",
      "Epoch 17/100\n",
      "156/156 [==============================] - 1s 5ms/step - loss: 1.0038 - accuracy: 0.5198: 0s - loss: 1.0053 - accura\n",
      "Epoch 18/100\n",
      "156/156 [==============================] - 1s 6ms/step - loss: 1.0064 - accuracy: 0.5164\n",
      "Epoch 19/100\n",
      "156/156 [==============================] - 1s 5ms/step - loss: 0.9894 - accuracy: 0.5373: 0s - loss: 0.9846 - accuracy: 0.53 - ETA: 0s - loss: 0.9850 \n",
      "Epoch 20/100\n",
      "156/156 [==============================] - 0s 2ms/step - loss: 1.0008 - accuracy: 0.5233\n",
      "Epoch 21/100\n",
      "156/156 [==============================] - 0s 1ms/step - loss: 0.9909 - accuracy: 0.5272\n",
      "Epoch 22/100\n",
      "156/156 [==============================] - 0s 1ms/step - loss: 0.9948 - accuracy: 0.5288\n",
      "Epoch 23/100\n",
      "156/156 [==============================] - 0s 1ms/step - loss: 0.9823 - accuracy: 0.5391\n",
      "Epoch 24/100\n",
      "156/156 [==============================] - 0s 1ms/step - loss: 0.9790 - accuracy: 0.5399\n",
      "Epoch 25/100\n",
      "156/156 [==============================] - 0s 1ms/step - loss: 0.9937 - accuracy: 0.5300\n",
      "Epoch 26/100\n",
      "156/156 [==============================] - 0s 1ms/step - loss: 0.9982 - accuracy: 0.5256\n",
      "Epoch 27/100\n",
      "156/156 [==============================] - 0s 1ms/step - loss: 0.9866 - accuracy: 0.5396\n",
      "Epoch 28/100\n",
      "156/156 [==============================] - 1s 4ms/step - loss: 0.9925 - accuracy: 0.5352\n",
      "Epoch 29/100\n",
      "156/156 [==============================] - 1s 4ms/step - loss: 0.9959 - accuracy: 0.5251\n",
      "Epoch 30/100\n",
      "156/156 [==============================] - 0s 3ms/step - loss: 0.9892 - accuracy: 0.5340\n",
      "Epoch 31/100\n",
      "156/156 [==============================] - 0s 3ms/step - loss: 0.9759 - accuracy: 0.5447\n",
      "Epoch 32/100\n",
      "156/156 [==============================] - 0s 2ms/step - loss: 0.9835 - accuracy: 0.5437\n",
      "Epoch 33/100\n",
      "156/156 [==============================] - 0s 2ms/step - loss: 0.9843 - accuracy: 0.5469\n",
      "Epoch 34/100\n",
      "156/156 [==============================] - 0s 2ms/step - loss: 0.9940 - accuracy: 0.5328\n",
      "Epoch 35/100\n",
      "156/156 [==============================] - 0s 2ms/step - loss: 0.9697 - accuracy: 0.5523\n",
      "Epoch 36/100\n",
      "156/156 [==============================] - 0s 2ms/step - loss: 0.9856 - accuracy: 0.5397\n",
      "Epoch 37/100\n",
      "156/156 [==============================] - 0s 2ms/step - loss: 0.9762 - accuracy: 0.5494\n",
      "Epoch 38/100\n",
      "156/156 [==============================] - 0s 2ms/step - loss: 0.9831 - accuracy: 0.5479\n",
      "Epoch 39/100\n",
      "156/156 [==============================] - 0s 2ms/step - loss: 0.9856 - accuracy: 0.5467\n",
      "Epoch 40/100\n",
      "156/156 [==============================] - 0s 2ms/step - loss: 0.9679 - accuracy: 0.5495\n",
      "Epoch 41/100\n",
      "156/156 [==============================] - 0s 2ms/step - loss: 0.9712 - accuracy: 0.5562\n",
      "Epoch 42/100\n",
      "156/156 [==============================] - 0s 2ms/step - loss: 0.9673 - accuracy: 0.5529\n",
      "Epoch 43/100\n",
      "156/156 [==============================] - 0s 2ms/step - loss: 0.9623 - accuracy: 0.5532\n",
      "Epoch 44/100\n",
      "156/156 [==============================] - 0s 2ms/step - loss: 0.9687 - accuracy: 0.5573\n",
      "Epoch 45/100\n",
      "156/156 [==============================] - 0s 2ms/step - loss: 0.9833 - accuracy: 0.5485\n",
      "Epoch 46/100\n",
      "156/156 [==============================] - 0s 2ms/step - loss: 0.9626 - accuracy: 0.5532\n",
      "Epoch 47/100\n",
      "156/156 [==============================] - 0s 3ms/step - loss: 0.9693 - accuracy: 0.5534\n",
      "Epoch 48/100\n",
      "156/156 [==============================] - 0s 2ms/step - loss: 0.9586 - accuracy: 0.5612\n",
      "Epoch 49/100\n",
      "156/156 [==============================] - 0s 2ms/step - loss: 0.9715 - accuracy: 0.5529\n",
      "Epoch 50/100\n",
      "156/156 [==============================] - 0s 2ms/step - loss: 0.9640 - accuracy: 0.5534\n",
      "Epoch 51/100\n",
      "156/156 [==============================] - 0s 2ms/step - loss: 0.9701 - accuracy: 0.5553\n",
      "Epoch 52/100\n",
      "156/156 [==============================] - 0s 2ms/step - loss: 0.9470 - accuracy: 0.5593\n",
      "Epoch 53/100\n",
      "156/156 [==============================] - 0s 2ms/step - loss: 0.9694 - accuracy: 0.5638\n",
      "Epoch 54/100\n",
      "156/156 [==============================] - 0s 2ms/step - loss: 0.9569 - accuracy: 0.5620\n",
      "Epoch 55/100\n",
      "156/156 [==============================] - 0s 2ms/step - loss: 0.9566 - accuracy: 0.5633\n",
      "Epoch 56/100\n",
      "156/156 [==============================] - 0s 2ms/step - loss: 0.9538 - accuracy: 0.5649\n",
      "Epoch 57/100\n",
      "156/156 [==============================] - 0s 3ms/step - loss: 0.9594 - accuracy: 0.5595\n",
      "Epoch 58/100\n",
      "156/156 [==============================] - 0s 2ms/step - loss: 0.9569 - accuracy: 0.5686\n",
      "Epoch 59/100\n",
      "156/156 [==============================] - 0s 2ms/step - loss: 0.9465 - accuracy: 0.5698\n",
      "Epoch 60/100\n",
      "156/156 [==============================] - 0s 2ms/step - loss: 0.9633 - accuracy: 0.5594\n",
      "Epoch 61/100\n",
      "156/156 [==============================] - 0s 2ms/step - loss: 0.9730 - accuracy: 0.5615\n",
      "Epoch 62/100\n",
      "156/156 [==============================] - 0s 2ms/step - loss: 0.9659 - accuracy: 0.5625\n",
      "Epoch 63/100\n",
      "156/156 [==============================] - 0s 2ms/step - loss: 0.9622 - accuracy: 0.5655\n",
      "Epoch 64/100\n",
      "156/156 [==============================] - 0s 2ms/step - loss: 0.9566 - accuracy: 0.5659\n",
      "Epoch 65/100\n",
      "156/156 [==============================] - 0s 2ms/step - loss: 0.9639 - accuracy: 0.5669\n",
      "Epoch 66/100\n",
      "156/156 [==============================] - 0s 2ms/step - loss: 0.9611 - accuracy: 0.5635\n",
      "Epoch 67/100\n",
      "156/156 [==============================] - 0s 2ms/step - loss: 0.9501 - accuracy: 0.5716\n",
      "Epoch 68/100\n",
      "156/156 [==============================] - 0s 2ms/step - loss: 0.9609 - accuracy: 0.5695\n",
      "Epoch 69/100\n",
      "156/156 [==============================] - 0s 2ms/step - loss: 0.9600 - accuracy: 0.5637\n",
      "Epoch 70/100\n",
      "156/156 [==============================] - 0s 2ms/step - loss: 0.9545 - accuracy: 0.5709\n",
      "Epoch 71/100\n",
      "156/156 [==============================] - 0s 2ms/step - loss: 0.9663 - accuracy: 0.5602\n",
      "Epoch 72/100\n",
      "156/156 [==============================] - 0s 2ms/step - loss: 0.9543 - accuracy: 0.5654\n",
      "Epoch 73/100\n",
      "156/156 [==============================] - 0s 2ms/step - loss: 0.9638 - accuracy: 0.5681\n",
      "Epoch 74/100\n",
      "156/156 [==============================] - 0s 2ms/step - loss: 0.9514 - accuracy: 0.5682\n",
      "Epoch 75/100\n",
      "156/156 [==============================] - 0s 2ms/step - loss: 0.9512 - accuracy: 0.5669\n",
      "Epoch 76/100\n",
      "156/156 [==============================] - 0s 2ms/step - loss: 0.9550 - accuracy: 0.5596\n",
      "Epoch 77/100\n",
      "156/156 [==============================] - 0s 2ms/step - loss: 0.9590 - accuracy: 0.5649\n",
      "Epoch 78/100\n",
      "156/156 [==============================] - 0s 2ms/step - loss: 0.9469 - accuracy: 0.5710\n",
      "Epoch 79/100\n",
      "156/156 [==============================] - 0s 2ms/step - loss: 0.9446 - accuracy: 0.5765\n",
      "Epoch 80/100\n",
      "156/156 [==============================] - 0s 2ms/step - loss: 0.9578 - accuracy: 0.5688\n",
      "Epoch 81/100\n",
      "156/156 [==============================] - 0s 2ms/step - loss: 0.9562 - accuracy: 0.5684\n",
      "Epoch 82/100\n",
      "156/156 [==============================] - 0s 2ms/step - loss: 0.9520 - accuracy: 0.5696\n",
      "Epoch 83/100\n",
      "156/156 [==============================] - 0s 2ms/step - loss: 0.9450 - accuracy: 0.5685\n",
      "Epoch 84/100\n",
      "156/156 [==============================] - 0s 2ms/step - loss: 0.9488 - accuracy: 0.5737\n",
      "Epoch 85/100\n",
      "156/156 [==============================] - 0s 2ms/step - loss: 0.9435 - accuracy: 0.5688\n",
      "Epoch 86/100\n",
      "156/156 [==============================] - 0s 2ms/step - loss: 0.9483 - accuracy: 0.5754\n",
      "Epoch 87/100\n",
      "156/156 [==============================] - 0s 2ms/step - loss: 0.9658 - accuracy: 0.5564\n",
      "Epoch 88/100\n",
      "156/156 [==============================] - 0s 2ms/step - loss: 0.9458 - accuracy: 0.5700\n",
      "Epoch 89/100\n",
      "156/156 [==============================] - 0s 2ms/step - loss: 0.9497 - accuracy: 0.5723\n",
      "Epoch 90/100\n",
      "156/156 [==============================] - 0s 2ms/step - loss: 0.9498 - accuracy: 0.5685\n",
      "Epoch 91/100\n",
      "156/156 [==============================] - 0s 2ms/step - loss: 0.9432 - accuracy: 0.5729\n",
      "Epoch 92/100\n",
      "156/156 [==============================] - 0s 2ms/step - loss: 0.9551 - accuracy: 0.5751\n",
      "Epoch 93/100\n",
      "156/156 [==============================] - 0s 2ms/step - loss: 0.9682 - accuracy: 0.5605\n",
      "Epoch 94/100\n",
      "156/156 [==============================] - 0s 2ms/step - loss: 0.9519 - accuracy: 0.5722\n",
      "Epoch 95/100\n",
      "156/156 [==============================] - 0s 2ms/step - loss: 0.9521 - accuracy: 0.5663\n",
      "Epoch 96/100\n",
      "156/156 [==============================] - 0s 2ms/step - loss: 0.9574 - accuracy: 0.5674\n",
      "Epoch 97/100\n",
      "156/156 [==============================] - 0s 2ms/step - loss: 0.9383 - accuracy: 0.5830\n",
      "Epoch 98/100\n",
      "156/156 [==============================] - 0s 2ms/step - loss: 0.9469 - accuracy: 0.5655\n",
      "Epoch 99/100\n",
      "156/156 [==============================] - 0s 2ms/step - loss: 0.9409 - accuracy: 0.5671\n",
      "Epoch 100/100\n",
      "156/156 [==============================] - 0s 2ms/step - loss: 0.9554 - accuracy: 0.5727\n"
     ]
    }
   ],
   "source": [
    "#Training classification model\n",
    "training = classifyModel.fit(classifyX_train, classifyY_train, epochs=100, batch_size=64)"
   ]
  },
  {
   "cell_type": "code",
   "execution_count": 95,
   "metadata": {},
   "outputs": [],
   "source": [
    "#Testing classification model\n",
    "import numpy as np\n",
    "prediction = classifyModel.predict(classifyX_test)\n",
    "\n",
    "# undoing onehot encoder\n",
    "pred = list()\n",
    "for i in range(len(prediction)):\n",
    "    pred.append(np.argmax(prediction[i]))\n",
    "test = list()\n",
    "for i in range(len(classifyY_test)):\n",
    "    test.append(np.argmax(classifyY_test[i]))"
   ]
  },
  {
   "cell_type": "code",
   "execution_count": 96,
   "metadata": {},
   "outputs": [
    {
     "name": "stdout",
     "output_type": "stream",
     "text": [
      "Accuracy is: 0.5727190605239386\n"
     ]
    }
   ],
   "source": [
    "# Determining accuracy of Classification Neural Network model\n",
    "from sklearn.metrics import accuracy_score\n",
    "classifyAccuracy = accuracy_score(pred,test)\n",
    "print('Accuracy is:', classifyAccuracy)"
   ]
  },
  {
   "cell_type": "code",
   "execution_count": null,
   "metadata": {},
   "outputs": [],
   "source": [
    "# Getting Columns for neural network regression\n",
    "# input variables: SPECIES, TOTN, TOTP, TOTK, TOTS, TOTCa, and TOTMg (not used)\n",
    "# label: predicting growth per year"
   ]
  }
 ],
 "metadata": {
  "interpreter": {
   "hash": "9650cb4e16cdd4a8e8e2d128bf38d875813998db22a3c986335f89e0cb4d7bb2"
  },
  "kernelspec": {
   "display_name": "Python 3.8.7 64-bit",
   "language": "python",
   "name": "python3"
  },
  "language_info": {
   "codemirror_mode": {
    "name": "ipython",
    "version": 3
   },
   "file_extension": ".py",
   "mimetype": "text/x-python",
   "name": "python",
   "nbconvert_exporter": "python",
   "pygments_lexer": "ipython3",
   "version": "3.8.7"
  },
  "orig_nbformat": 4
 },
 "nbformat": 4,
 "nbformat_minor": 2
}
