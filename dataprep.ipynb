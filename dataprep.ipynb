{
 "cells": [
  {
   "cell_type": "code",
   "execution_count": 2,
   "metadata": {},
   "outputs": [],
   "source": [
    "# Get tree measurements for year 82, 85, and 90\n",
    "import pandas as pd\n",
    "treeMeasurements = pd.read_csv(\"C55_TreeMeasurements.csv\")\n",
    "\n",
    "#getting trees from 1982 and 1985 measurements\n",
    "desiredCols1 = [\"PLOT\", \"TREE\", \"RECRUIT\", \"SPECIES\", \"D82\", \"D85\"]\n",
    "customMeasurements1 = treeMeasurements[desiredCols1]\n",
    "\n",
    "#getting trees from 1985 to 1990\n",
    "desiredCols2 = [\"PLOT\", \"TREE\", \"RECRUIT\", \"SPECIES\", \"D85\", \"D90\"]\n",
    "customMeasurements2 = treeMeasurements[desiredCols2]\n",
    "\n",
    "#cleaning data to gather trees that only have measurements at both ends of the period\n",
    "clean82_85 = customMeasurements1.dropna()\n",
    "clean85_90 = customMeasurements2.dropna()\n"
   ]
  },
  {
   "cell_type": "code",
   "execution_count": 11,
   "metadata": {},
   "outputs": [],
   "source": [
    "# getting foliar nutrients from csv file\n",
    "foliarNutrients = pd.read_csv(\"C55_FoliarNutrients.csv\")\n",
    "foliarNutrients = foliarNutrients.drop(\"REPLICATE\", axis=1)\n",
    "# Get foliar nutrient levels 1982\n",
    "foliarNutrients82 = foliarNutrients.loc(foliarNutrients[\"YEAR\"] == 1982)\n",
    "\n",
    "\n",
    "\n",
    "# Get foliar nutrient levels 1985"
   ]
  },
  {
   "cell_type": "code",
   "execution_count": null,
   "metadata": {},
   "outputs": [],
   "source": []
  }
 ],
 "metadata": {
  "interpreter": {
   "hash": "9650cb4e16cdd4a8e8e2d128bf38d875813998db22a3c986335f89e0cb4d7bb2"
  },
  "kernelspec": {
   "display_name": "Python 3.8.7 64-bit",
   "language": "python",
   "name": "python3"
  },
  "language_info": {
   "codemirror_mode": {
    "name": "ipython",
    "version": 3
   },
   "file_extension": ".py",
   "mimetype": "text/x-python",
   "name": "python",
   "nbconvert_exporter": "python",
   "pygments_lexer": "ipython3",
   "version": "3.8.7"
  },
  "orig_nbformat": 4
 },
 "nbformat": 4,
 "nbformat_minor": 2
}
