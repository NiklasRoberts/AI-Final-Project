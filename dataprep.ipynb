{
 "cells": [
  {
   "cell_type": "code",
   "execution_count": 2,
   "metadata": {},
   "outputs": [],
   "source": [
    "import pandas as pd\n",
    "import matplotlib"
   ]
  },
  {
   "cell_type": "code",
   "execution_count": 3,
   "metadata": {},
   "outputs": [],
   "source": [
    "# Get tree measurements for year 82, 85, and 90\n",
    "treeMeasurements = pd.read_csv(\"C55_TreeMeasurements.csv\")\n",
    "\n",
    "#getting trees from 1982 and 1985 measurements\n",
    "desiredCols1 = [\"PLOT\", \"TREE\", \"RECRUIT\", \"SPECIES\", \"D82\", \"D85\"]\n",
    "customMeasurements1 = treeMeasurements[desiredCols1]\n",
    "\n",
    "#getting trees from 1985 to 1990\n",
    "desiredCols2 = [\"PLOT\", \"TREE\", \"RECRUIT\", \"SPECIES\", \"D85\", \"D90\"]\n",
    "customMeasurements2 = treeMeasurements[desiredCols2]\n",
    "\n",
    "#cleaning data to gather trees that only have measurements at both ends of the period\n",
    "clean82_85 = customMeasurements1.dropna()\n",
    "clean85_90 = customMeasurements2.dropna()\n"
   ]
  },
  {
   "cell_type": "code",
   "execution_count": 4,
   "metadata": {},
   "outputs": [],
   "source": [
    "# getting foliar nutrients from csv file\n",
    "foliarNutrients = pd.read_csv(\"C55_FoliarNutrients.csv\")\n",
    "foliarNutrients = foliarNutrients.drop(\"REPLICATE\", axis=1)\n",
    "\n",
    "# Get foliar nutrient levels 1982\n",
    "foliarNutrients82 = foliarNutrients.loc[foliarNutrients['YEAR'] == 1982]\n",
    "\n",
    "# Get foliar nutrient levels 1985\n",
    "foliarNutrients85 = foliarNutrients.loc[foliarNutrients['YEAR'] == 1985]"
   ]
  },
  {
   "cell_type": "code",
   "execution_count": 5,
   "metadata": {},
   "outputs": [],
   "source": [
    "# Add foliar nutrients to tree data \n",
    "allTreeData82_85 = pd.merge(clean82_85, foliarNutrients82, on=\"PLOT\", how=\"outer\")\n",
    "\n",
    "allTreeData85_90 = pd.merge(clean85_90, foliarNutrients85, on=\"PLOT\", how=\"outer\")\n"
   ]
  },
  {
   "cell_type": "code",
   "execution_count": 6,
   "metadata": {},
   "outputs": [],
   "source": [
    "# Getting percent growth for each tree per year\n",
    "# perc_growth = (D85-D82)/D82\n",
    "allTreeData82_85[\"Growth\"] = (allTreeData82_85[\"D85\"]-allTreeData82_85[\"D82\"])/allTreeData82_85[\"D82\"]\n",
    "# growth_per_yr = prec_growth/85-82\n",
    "allTreeData82_85[\"Growth/yr\"] = allTreeData82_85[\"Growth\"]/3\n",
    "\n",
    "\n",
    "#getting percent growth for 1985-1990\n",
    "# perc_growth = (D90-D85)/D825\n",
    "allTreeData85_90[\"Growth\"] = (allTreeData85_90[\"D90\"]-allTreeData85_90[\"D85\"])/allTreeData85_90[\"D85\"]\n",
    "# growth_per_yr = prec_growth/85-82\n",
    "allTreeData85_90[\"Growth/yr\"] = allTreeData85_90[\"Growth\"]/5\n",
    "\n",
    "\n",
    "\n",
    "allTreeData = pd.concat([allTreeData82_85, allTreeData85_90], ignore_index=True)\n"
   ]
  },
  {
   "cell_type": "code",
   "execution_count": 27,
   "metadata": {},
   "outputs": [],
   "source": [
    "# Extract relevant columns: \n",
    "relColumns = [\"SPECIES\", \"TOTN\", \"TOTP\", \"TOTK\", \"TOTS\", \"TOTCa\", \"Growth/yr\"]\n",
    "modelingData82 = allTreeData82_85[relColumns]\n",
    "modelingData85 = allTreeData85_90[relColumns]\n",
    "\n",
    "# combine dataframes\n",
    "modelingData = pd.concat([modelingData82, modelingData85], ignore_index=True)\n",
    "modelingData['id'] = modelingData.index"
   ]
  },
  {
   "cell_type": "code",
   "execution_count": 28,
   "metadata": {},
   "outputs": [
    {
     "data": {
      "text/plain": [
       "<AxesSubplot:xlabel='bins'>"
      ]
     },
     "execution_count": 28,
     "metadata": {},
     "output_type": "execute_result"
    },
    {
     "data": {
      "image/png": "[encoded data removed]",
      "text/plain": [
       "<Figure size 432x288 with 1 Axes>"
      ]
     },
     "metadata": {
      "needs_background": "light"
     },
     "output_type": "display_data"
    }
   ],
   "source": [
    "bins = [0, .05, .1, .2, 50]\n",
    "modelingCopy = modelingData\n",
    "modelingCopy['bins'] = pd.cut(modelingData['Growth/yr'], bins = bins, include_lowest=True)\n",
    "plotDF = modelingCopy.groupby('bins').bins.count()\n",
    "plotDF.plot(kind=\"bar\")\n",
    "# Histogram for percent growth per year\n"
   ]
  },
  {
   "cell_type": "code",
   "execution_count": 29,
   "metadata": {},
   "outputs": [],
   "source": [
    "# Getting Columns for neural network classification\n",
    "# What bin does the growth/yr fall into? that bin gets a 1, others get 0\n",
    "\n",
    "mergeDF = pd.DataFrame(columns=['id', 'bin'])\n",
    "\n",
    "# For each row in modelingData\n",
    "for index, row in modelingData.iterrows():\n",
    "    if row['Growth/yr'] <= .05:\n",
    "        mergeDF.loc[index] = pd.Series({'id': index, 'bin': 0})\n",
    "    elif row['Growth/yr'] <= .1:\n",
    "        mergeDF.loc[index] = pd.Series({'id': index, 'bin': 1})\n",
    "    elif row['Growth/yr'] <= .2:\n",
    "        mergeDF.loc[index] = pd.Series({'id': index, 'bin': 2})\n",
    "    else:\n",
    "        mergeDF.loc[index] = pd.Series({'id': index, 'bin': 3})\n",
    "\n",
    "modelingData = pd.merge(modelingData, mergeDF, on='id', how=\"outer\")"
   ]
  },
  {
   "cell_type": "code",
   "execution_count": 40,
   "metadata": {},
   "outputs": [],
   "source": [
    "# input variables: SPECIES, TOTN, TOTP, TOTK, TOTS, TOTCa, and TOTMg (not used)\n",
    "# label: fixed bins (1 for correct bin, 0 for all others)\n",
    "classifyColumns = ['SPECIES', 'TOTN', 'TOTP', 'TOTK', 'TOTS', 'TOTCa', 'bin']\n",
    "classifyData = modelingData[classifyColumns]\n",
    "classifyX = classifyData.iloc[:,:6].values\n",
    "classifyY = classifyData.iloc[:,6:7].values"
   ]
  },
  {
   "cell_type": "code",
   "execution_count": 41,
   "metadata": {},
   "outputs": [],
   "source": [
    "#Classification Neural Network train/test data\n",
    "from sklearn.preprocessing import OneHotEncoder\n",
    "ohe = OneHotEncoder()\n",
    "classifyY = ohe.fit_transform(classifyY).toarray()\n",
    "\n",
    "from sklearn.model_selection import train_test_split\n",
    "classifyX_train, classifyX_test, classifyY_train, classifyY_test = train_test_split(classifyX, classifyY, test_size = 0.1)"
   ]
  },
  {
   "cell_type": "code",
   "execution_count": 42,
   "metadata": {},
   "outputs": [
    {
     "ename": "ModuleNotFoundError",
     "evalue": "No module named 'tensorflow'",
     "output_type": "error",
     "traceback": [
      "\u001b[0;31m---------------------------------------------------------------------------\u001b[0m",
      "\u001b[0;31mModuleNotFoundError\u001b[0m                       Traceback (most recent call last)",
      "\u001b[1;32m/Users/niklasroberts/Documents/SchoolClasses/2022-Spring/AI/AI-Final-Project/dataprep.ipynb Cell 11'\u001b[0m in \u001b[0;36m<cell line: 2>\u001b[0;34m()\u001b[0m\n\u001b[1;32m      <a href='vscode-notebook-cell:/Users/niklasroberts/Documents/SchoolClasses/2022-Spring/AI/AI-Final-Project/dataprep.ipynb#ch0000011?line=0'>1</a>\u001b[0m \u001b[39m#Building Neural Network for Classification\u001b[39;00m\n\u001b[0;32m----> <a href='vscode-notebook-cell:/Users/niklasroberts/Documents/SchoolClasses/2022-Spring/AI/AI-Final-Project/dataprep.ipynb#ch0000011?line=1'>2</a>\u001b[0m \u001b[39mimport\u001b[39;00m \u001b[39mkeras\u001b[39;00m\n\u001b[1;32m      <a href='vscode-notebook-cell:/Users/niklasroberts/Documents/SchoolClasses/2022-Spring/AI/AI-Final-Project/dataprep.ipynb#ch0000011?line=2'>3</a>\u001b[0m \u001b[39mfrom\u001b[39;00m \u001b[39mkeras\u001b[39;00m\u001b[39m.\u001b[39;00m\u001b[39mmodels\u001b[39;00m \u001b[39mimport\u001b[39;00m Sequential\n\u001b[1;32m      <a href='vscode-notebook-cell:/Users/niklasroberts/Documents/SchoolClasses/2022-Spring/AI/AI-Final-Project/dataprep.ipynb#ch0000011?line=3'>4</a>\u001b[0m \u001b[39mfrom\u001b[39;00m \u001b[39mkeras\u001b[39;00m\u001b[39m.\u001b[39;00m\u001b[39mlayers\u001b[39;00m \u001b[39mimport\u001b[39;00m Dense\n",
      "File \u001b[0;32m/opt/anaconda3/envs/AIFinal/lib/python3.9/site-packages/keras/__init__.py:21\u001b[0m, in \u001b[0;36m<module>\u001b[0;34m\u001b[0m\n\u001b[1;32m     <a href='file:///opt/anaconda3/envs/AIFinal/lib/python3.9/site-packages/keras/__init__.py?line=14'>15</a>\u001b[0m \u001b[39m\"\"\"Implementation of the Keras API, the high-level API of TensorFlow.\u001b[39;00m\n\u001b[1;32m     <a href='file:///opt/anaconda3/envs/AIFinal/lib/python3.9/site-packages/keras/__init__.py?line=15'>16</a>\u001b[0m \n\u001b[1;32m     <a href='file:///opt/anaconda3/envs/AIFinal/lib/python3.9/site-packages/keras/__init__.py?line=16'>17</a>\u001b[0m \u001b[39mDetailed documentation and user guides are available at\u001b[39;00m\n\u001b[1;32m     <a href='file:///opt/anaconda3/envs/AIFinal/lib/python3.9/site-packages/keras/__init__.py?line=17'>18</a>\u001b[0m \u001b[39m[keras.io](https://keras.io).\u001b[39;00m\n\u001b[1;32m     <a href='file:///opt/anaconda3/envs/AIFinal/lib/python3.9/site-packages/keras/__init__.py?line=18'>19</a>\u001b[0m \u001b[39m\"\"\"\u001b[39;00m\n\u001b[1;32m     <a href='file:///opt/anaconda3/envs/AIFinal/lib/python3.9/site-packages/keras/__init__.py?line=19'>20</a>\u001b[0m \u001b[39m# pylint: disable=unused-import\u001b[39;00m\n\u001b[0;32m---> <a href='file:///opt/anaconda3/envs/AIFinal/lib/python3.9/site-packages/keras/__init__.py?line=20'>21</a>\u001b[0m \u001b[39mfrom\u001b[39;00m \u001b[39mtensorflow\u001b[39;00m\u001b[39m.\u001b[39;00m\u001b[39mpython\u001b[39;00m \u001b[39mimport\u001b[39;00m tf2\n\u001b[1;32m     <a href='file:///opt/anaconda3/envs/AIFinal/lib/python3.9/site-packages/keras/__init__.py?line=21'>22</a>\u001b[0m \u001b[39mfrom\u001b[39;00m \u001b[39mkeras\u001b[39;00m \u001b[39mimport\u001b[39;00m distribute\n\u001b[1;32m     <a href='file:///opt/anaconda3/envs/AIFinal/lib/python3.9/site-packages/keras/__init__.py?line=23'>24</a>\u001b[0m \u001b[39m# See b/110718070#comment18 for more details about this import.\u001b[39;00m\n",
      "\u001b[0;31mModuleNotFoundError\u001b[0m: No module named 'tensorflow'"
     ]
    }
   ],
   "source": [
    "#Building Neural Network for Classification\n",
    "import keras\n",
    "from keras.models import Sequential\n",
    "from keras.layers import Dense\n",
    "\n",
    "classifyModel = Sequential()\n",
    "classifyModel.add(Dense(4, input_dim=6, activation='relu'))\n",
    "#classifyModel.add(Dense(4, activation=''))\n",
    "\n",
    "classifyModel.compile(loss='categorical_crossentropy', metrics=['accuracy'])"
   ]
  },
  {
   "cell_type": "code",
   "execution_count": null,
   "metadata": {},
   "outputs": [],
   "source": [
    "#Training classification model\n",
    "training = classifyModel.fit(classifyX_train, classifyY_train, epochs=100, batch_size=64)"
   ]
  },
  {
   "cell_type": "code",
   "execution_count": null,
   "metadata": {},
   "outputs": [],
   "source": [
    "#Testing classification model\n"
   ]
  },
  {
   "cell_type": "code",
   "execution_count": null,
   "metadata": {},
   "outputs": [],
   "source": [
    "# Getting Columns for neural network regression\n",
    "# input variables: SPECIES, TOTN, TOTP, TOTK, TOTS, TOTCa, and TOTMg (not used)\n",
    "# label: predicting growth per year"
   ]
  }
 ],
 "metadata": {
  "interpreter": {
   "hash": "1e4a050da4324ef5a8fabdb48fc5efd845172a31a775ea59d80b59962a2b6048"
  },
  "kernelspec": {
   "display_name": "Python 3.9.12 ('AIFinal')",
   "language": "python",
   "name": "python3"
  },
  "language_info": {
   "codemirror_mode": {
    "name": "ipython",
    "version": 3
   },
   "file_extension": ".py",
   "mimetype": "text/x-python",
   "name": "python",
   "nbconvert_exporter": "python",
   "pygments_lexer": "ipython3",
   "version": "3.9.12"
  },
  "orig_nbformat": 4
 },
 "nbformat": 4,
 "nbformat_minor": 2
}
